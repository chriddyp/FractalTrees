{
 "metadata": {
  "name": ""
 },
 "nbformat": 3,
 "nbformat_minor": 0,
 "worksheets": [
  {
   "cells": [
    {
     "cell_type": "code",
     "collapsed": false,
     "input": [
      "# from pysvg.builders import *\n",
      "from math import pi as PI\n",
      "from math import sin, cos\n",
      "import random\n",
      "root=0"
     ],
     "language": "python",
     "metadata": {},
     "outputs": [],
     "prompt_number": 43
    },
    {
     "cell_type": "code",
     "collapsed": false,
     "input": [
      "from plotly.graph_objs import *\n",
      "import plotly.plotly as py\n",
      "import plotly.tools as tls"
     ],
     "language": "python",
     "metadata": {},
     "outputs": [],
     "prompt_number": 103
    },
    {
     "cell_type": "code",
     "collapsed": false,
     "input": [
      "# color the tree with a gradient from root_col to tip_col\n",
      "# interpolate linearly to get color at a given position in the gradient\n",
      "def get_col(root_col, tip_col, iterat):\n",
      "    r = ((iterat*1.0/root)*(root_col[0]-tip_col[0]))+tip_col[0]\n",
      "    g = ((iterat*1.0/root)*(root_col[1]-tip_col[1]))+tip_col[1]\n",
      "    b = ((iterat*1.0/root)*(root_col[2]-tip_col[2]))+tip_col[2]\n",
      "    return '#%02x%02x%02x' % (r,g,b)\n"
     ],
     "language": "python",
     "metadata": {},
     "outputs": [],
     "prompt_number": 45
    },
    {
     "cell_type": "code",
     "collapsed": false,
     "input": [
      "# just testing commit.\n",
      "def fractal_tree(lines, iterat, origin, t, r, theta, dtheta, root_col, tip_col, randomize=False):\n",
      "    \"\"\"\n",
      "    draws branches\n",
      "    iterat:     iteratation number, stop when iterat == 0\n",
      "    origin:   x,y coordinates of the start of this branch\n",
      "    t:        current trunk length\n",
      "    r:        factor to contract the trunk each iteratation\n",
      "    theta:    starting orientation\n",
      "    dtheta:   angle of the branch\n",
      "    \"\"\"\n",
      "    if iterat == 0:\n",
      "        return lines\n",
      "    # render the branch\n",
      "    x0, y0 = origin\n",
      "\n",
      "    # randomize the length\n",
      "    randt = random.random()*t\n",
      "    if randomize:\n",
      "        x, y = x0 + randt * cos(theta), y0 - randt * sin(theta)\n",
      "    else:\n",
      "        x, y = x0 + cos(theta), y0 - sin(theta)\n",
      "    # color the branch according to its position in the tree\n",
      "    col = get_col(root_col, tip_col, iterat)\n",
      "    # add to traces\n",
      "    lines.append(Scatter(x=[x0, x], y=[y0, y], mode='lines', line=Line(color=col, width=1)))\n",
      "    # recursive calls\n",
      "    if randomize:\n",
      "        fractal_tree(lines, iterat-1, (x,y), t * r, r, theta + (random.random())*(iterscale/(iterat+1))*dtheta, dtheta, root_col, tip_col, randomize)\n",
      "        fractal_tree(lines, iterat-1, (x,y), t * r, r, theta - (random.random())*(iterscale/(iterat+1))*dtheta, dtheta, root_col, tip_col, randomize) \n",
      "    else: \n",
      "        fractal_tree(lines, iterat-1, (x,y), t * r, r, theta + dtheta, dtheta, root_col, tip_col, randomize)\n",
      "        fractal_tree(lines, iterat-1, (x,y), t * r, r, theta - dtheta, dtheta, root_col, tip_col, randomize)"
     ],
     "language": "python",
     "metadata": {},
     "outputs": [],
     "prompt_number": 128
    },
    {
     "cell_type": "code",
     "collapsed": false,
     "input": [
      "for i in range(30):\n",
      "    # angle to radian factor\n",
      "    ang2rad = PI/180.0\n",
      "    # experiment with number of iteratations (try 4 to 14)\n",
      "    iterat = 12\n",
      "    # experiment with trunk length (try 120)\n",
      "    t = 120\n",
      "    # experiment with factor to contract the trunk each iteratation (try 0.7)\n",
      "    r = 0.7\n",
      "    # starting orientation (initial 90 deg)\n",
      "    theta = 90.0 * ang2rad\n",
      "    # experiment with angle of the branch (try 18 deg)\n",
      "    dtheta = 18.0 * ang2rad\n",
      "    # experiment with gradient color choices\n",
      "    root_col = (40,40,40)\n",
      "    tip_col = (250,250,250)\n",
      "    # experiment with factor to increase random angle variation as child branches get smaller\n",
      "    iterscale = 6.0\n",
      "    # center of bottom\n",
      "    origin = (250, 500)\n",
      "    root=iterat\n",
      "    # make the tree\n",
      "    lines = []\n",
      "    fractal_tree(lines, iterat, origin, t, r, theta, dtheta, root_col, tip_col, True)\n",
      "    \n",
      "    # group the lines by similar color\n",
      "    branches = {}\n",
      "    for line in lines:\n",
      "        color = line['line']['color']\n",
      "        if color not in branches:\n",
      "            branches[color] = line\n",
      "        else:\n",
      "            branches[color]['x'].extend(line['x'])\n",
      "            branches[color]['y'].extend(line['y'])\n",
      "            branches[color]['x'].append(None)\n",
      "            branches[color]['y'].append(None)\n",
      "            \n",
      "    \n",
      "    branch_data = [branches[c] for c in branches]\n",
      "    \n",
      "    layout = Layout(yaxis=YAxis(autorange='reversed'), \n",
      "                    width=500, height=800, showlegend=False)\n",
      "    fig = Figure(data=Data(branch_data), layout=layout)\n",
      "    py.iplot(fig, filename='random fractal tree #{}'.format(i+1))"
     ],
     "language": "python",
     "metadata": {},
     "outputs": [],
     "prompt_number": 139
    },
    {
     "cell_type": "code",
     "collapsed": false,
     "input": [],
     "language": "python",
     "metadata": {},
     "outputs": []
    }
   ],
   "metadata": {}
  }
 ]
}